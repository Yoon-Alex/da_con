{
 "cells": [
  {
   "cell_type": "markdown",
   "metadata": {},
   "source": [
    "### 포스트 코로나 시대 유망 품목 및 산업 발굴\n",
    "### 코로나로 인한 국민의 생활/소비의 변화 파악"
   ]
  },
  {
   "cell_type": "markdown",
   "metadata": {},
   "source": [
    "1. 평가\n",
    "\n",
    "- 평가 지표: 가중치 투표\n",
    "\n",
    " - 레벨1: 0.2점\n",
    "\n",
    " - 레벨2: 1점\n",
    "\n",
    " - 레벨3: 2점\n",
    "\n",
    " - 레벨4: 3점\n",
    "\n",
    " - 레벨5: 4점\n",
    "\n",
    "- 가채점 순위 (Public Score) : 투표 점수로 결정\n",
    "\n",
    "- 최종 순위 (Private Score) : PPT를 기한 내 제출한 가채점 순위 상위 10팀 대상으로 추가 심사 진행. 내부 평가 기준에 따라 순위를 산출하여 최종 수상자 결정﻿﻿﻿﻿﻿﻿﻿﻿﻿﻿﻿﻿﻿﻿﻿﻿﻿﻿﻿﻿﻿﻿﻿﻿﻿﻿﻿﻿﻿﻿﻿﻿﻿﻿﻿﻿﻿﻿﻿﻿﻿﻿﻿﻿﻿﻿﻿\n",
    "\n",
    "- 평가기준 세부사항 바로가기\n",
    "\n",
    "\n",
    "\n",
    "2. 외부 데이터\n",
    "\n",
    "- 공공 데이터와 같은 법적인 제약이 없는 경우에만 사용 가능\n",
    "\n",
    "- 공공데이터 다운을 받은 경우 링크를 게시\n",
    "\n",
    "- 크롤링 시 코드 제출 필수"
   ]
  },
  {
   "cell_type": "markdown",
   "metadata": {},
   "source": [
    "PCA, \n",
    "\n",
    "1. Feature engineering\n",
    "2. Cluster model (PCA, Kmeans)\n",
    "3. Result (analysis feature by clusters)"
   ]
  },
  {
   "cell_type": "markdown",
   "metadata": {},
   "source": [
    "'의미합니다.' , '명명합니다'"
   ]
  },
  {
   "cell_type": "code",
   "execution_count": null,
   "metadata": {},
   "outputs": [],
   "source": []
  }
 ],
 "metadata": {
  "kernelspec": {
   "display_name": "Python 3",
   "language": "python",
   "name": "python3"
  },
  "language_info": {
   "codemirror_mode": {
    "name": "ipython",
    "version": 3
   },
   "file_extension": ".py",
   "mimetype": "text/x-python",
   "name": "python",
   "nbconvert_exporter": "python",
   "pygments_lexer": "ipython3",
   "version": "3.6.9"
  }
 },
 "nbformat": 4,
 "nbformat_minor": 2
}
